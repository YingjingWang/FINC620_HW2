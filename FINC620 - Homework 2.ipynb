{
 "cells": [
  {
   "cell_type": "markdown",
   "metadata": {},
   "source": [
    "__Group Member Names:__ ... , ... , ... .\n",
    "\n",
    "\n",
    "---"
   ]
  },
  {
   "cell_type": "markdown",
   "metadata": {},
   "source": [
    "# Homework 2\n",
    "__Guidelines:__ \n",
    "* Please write the names of all group members to the __\"Group Member Names:\"__ line above. \n",
    "* For the questions that require verbal answers, please answer them in their respective answer cells. \n",
    "* For the questions that require code, if your code doesn't work, please include a comment describing your algorithm (if code works well, no explanation is needed). \n",
    "* This homework is due on __Sep. 19, 2020, 9:00 am.__ You need to upload your completed homework assignment to Sakai as a Jupyter Notebook file (.ipynb) until that time.\n",
    "---"
   ]
  },
  {
   "cell_type": "markdown",
   "metadata": {},
   "source": [
    "## __Question 1:__  "
   ]
  },
  {
   "cell_type": "markdown",
   "metadata": {},
   "source": [
    "Write a function that calculates the future value of a current investment as follows.\n",
    "* The function will have three arguments: pv, r, t \n",
    "* pv represents the current investment amount, r represents the yearly rate of return, t represents the investment term in years.\n",
    "* The function should output the future value of the investment.\n",
    "* You may assume annual compounding.\n",
    "\n",
    "The final function should look like: future_val(pv, r, t), where numbers will be in place of pv, r, t \n",
    "\n",
    "(e.g., after defining the function running the following should produce the appropriate output: future_val(1000, 0.05, 10)). "
   ]
  },
  {
   "cell_type": "code",
   "execution_count": null,
   "metadata": {
    "scrolled": false
   },
   "outputs": [],
   "source": []
  },
  {
   "cell_type": "markdown",
   "metadata": {},
   "source": [
    "---"
   ]
  },
  {
   "cell_type": "markdown",
   "metadata": {},
   "source": [
    "## Question 2:"
   ]
  },
  {
   "cell_type": "markdown",
   "metadata": {},
   "source": [
    "Write a program that calculates the internet bill of a customer, as follows:\n",
    "* The program will first ask how many gigabytes (GB) of data customer used.\n",
    "* Second, the program will ask how much is the per gigabyte rate.\n",
    "* Third, the program will ask how many years has this person been a customer of the company. \n",
    "    * If the gigabytes used is greater than 100, then the customer will pay base rate for the first 100 GB, and pay __triple__ of that rate for the __extra__ gigabytes.\n",
    "    * Furthermore, if the person has been a customer of the company for more than 2 years, then the person will also receive loyalty discount and the final total bill will be reduced by __20%__ (i.e. x0.8).\n",
    "    \n",
    "Finally, the program should print the internet bill amount of customer."
   ]
  },
  {
   "cell_type": "code",
   "execution_count": null,
   "metadata": {
    "scrolled": false
   },
   "outputs": [],
   "source": []
  },
  {
   "cell_type": "markdown",
   "metadata": {},
   "source": [
    "---"
   ]
  },
  {
   "cell_type": "markdown",
   "metadata": {},
   "source": [
    "## Question 3"
   ]
  },
  {
   "cell_type": "markdown",
   "metadata": {},
   "source": [
    "Write a code that achieves the following objective.\n",
    "* It will first ask user's input if the weather is cold (Y/N)\n",
    "* Next the program will first check whether a valid answer is given (e.g., 'Y' or 'N' are valid, 'yeah' 'nope' '12314' 'asdfg' are not valid)\n",
    "* If a valid answer is given, then depending on the answer, the program should print out \"Take your coat.\" or \"No need for coat.\" for 'Y' and 'N' answers, respectively.\n",
    "* If an invalid answer is given, the program should print out \"Invalid answer, re-run the program.\""
   ]
  },
  {
   "cell_type": "code",
   "execution_count": null,
   "metadata": {
    "scrolled": true
   },
   "outputs": [],
   "source": [
    "weather = input('Is the weather cold? (Y/N)')\n",
    "if weather == 'Y':\n",
    "    print ('Take you coat.')\n",
    "elif weather == 'N':\n",
    "    print ('No need of coat.')\n",
    "else:\n",
    "    print ('Invalid answer, re-run the program')"
   ]
  },
  {
   "cell_type": "markdown",
   "metadata": {},
   "source": [
    "---"
   ]
  },
  {
   "cell_type": "markdown",
   "metadata": {},
   "source": [
    "## Question 4:"
   ]
  },
  {
   "cell_type": "markdown",
   "metadata": {},
   "source": [
    "Write a program that achieves the following:\n",
    "* The program will start with number 1, and will keep going on 2, 3, 4, 5...\n",
    "* In each iteration, the program will print out the square of the number, 1, 4, 9, 16, 25...\n",
    "* The program will stop once the square of a number exceeds 200.\n",
    "\n",
    "To give an idea, the output should broadly look like (for brevity, \"...\" below represents the numbers in between):\n",
    "\n",
    "1\n",
    "\n",
    "4\n",
    "\n",
    "...    \n",
    "\n",
    "196\n",
    "\n",
    "225"
   ]
  },
  {
   "cell_type": "code",
   "execution_count": null,
   "metadata": {},
   "outputs": [],
   "source": []
  },
  {
   "cell_type": "markdown",
   "metadata": {},
   "source": [
    "---"
   ]
  },
  {
   "cell_type": "markdown",
   "metadata": {},
   "source": [
    "## Question 5:"
   ]
  },
  {
   "cell_type": "markdown",
   "metadata": {},
   "source": [
    "Consider the following string variable, which consists of a quote by Leonardo Da Vinci, \n",
    "\n",
    "s_var = \"It had long since come to my attention that people of accomplishment rarely sat back and let things happen to them. They went out and happened to things.\"\n",
    "\n",
    "Define this string variable.\n",
    "\n",
    "Write a code that first splits this string variable into individual words, and then constructs a new list variable that consists of these words. Next your code should count the words in this list that has more than 5 characters. Finally, your code should print out the number of words with more than 5 characters in this string variable.\n",
    "\n",
    "(Note: You may consider an adjacent punctuation as a character that is part of the word, in this question for simplicity. Even though, \"them.\" for example is a word _and_ a dot, strictly speaking. Alternatively, you may also remove the punctuation if you like. Either way is fine for this question.)"
   ]
  },
  {
   "cell_type": "code",
   "execution_count": null,
   "metadata": {},
   "outputs": [],
   "source": []
  },
  {
   "cell_type": "markdown",
   "metadata": {},
   "source": [
    "---"
   ]
  }
 ],
 "metadata": {
  "kernelspec": {
   "display_name": "Python 3",
   "language": "python",
   "name": "python3"
  },
  "language_info": {
   "codemirror_mode": {
    "name": "ipython",
    "version": 3
   },
   "file_extension": ".py",
   "mimetype": "text/x-python",
   "name": "python",
   "nbconvert_exporter": "python",
   "pygments_lexer": "ipython3",
   "version": "3.8.3"
  }
 },
 "nbformat": 4,
 "nbformat_minor": 2
}
